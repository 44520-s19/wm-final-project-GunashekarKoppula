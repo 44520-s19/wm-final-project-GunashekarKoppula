{
 "cells": [
  {
   "cell_type": "code",
   "execution_count": null,
   "metadata": {},
   "outputs": [],
   "source": [
    "\n",
    "import requests\n",
    "\n",
    "from bs4 import BeautifulSoup\n",
    "\n",
    "from collections import Counter\n",
    "\n",
    "file= requests.get(\"https://www.imdb.com/chart/top?sort=rk,asc&mode=simple&page=1\",headers={'User-Agent':'Mozilla/5.0'})\n",
    "\n",
    "soup = BeautifulSoup(file.text,'html5lib')\n",
    "\n",
    "ulval=soup.find_all('td',{'class':'titleColumn'})\n",
    "\n",
    "TopMoviesList=[]\n",
    "\n",
    "for val in ulval:\n",
    "    \n",
    "    #print(val.find('a').get('title'))\n",
    "    cast =  val.find('a').get('title')\n",
    "    castlist = cast.split (\", \")\n",
    "    TopMoviesList.append({'director':castlist[0],'actor1':castlist[1],'actor2':castlist[2]})\n",
    "   # print('--------------------------------------------------')\n",
    "\n",
    "actorlist=[]\n",
    "    \n",
    "for movie in TopMoviesList:\n",
    "    actorlist.append(movie['actor1'])\n",
    "    actorlist.append(movie['actor2'])\n",
    "\n",
    "top11=Counter(actorlist)    \n",
    "    \n",
    "topActorCount=[]    \n",
    "for a in Counter(actorlist).most_common(11):\n",
    "    topActorCount.append({'name':a[0],'no_of_movies':a[1]})\n",
    "    \n",
    "\n",
    "\n"
   ]
  },
  {
   "cell_type": "code",
   "execution_count": 1,
   "metadata": {},
   "outputs": [
    {
     "ename": "NameError",
     "evalue": "name 'top11' is not defined",
     "output_type": "error",
     "traceback": [
      "\u001b[1;31m---------------------------------------------------------------------------\u001b[0m",
      "\u001b[1;31mNameError\u001b[0m                                 Traceback (most recent call last)",
      "\u001b[1;32m<ipython-input-1-b00e4531527d>\u001b[0m in \u001b[0;36m<module>\u001b[1;34m\u001b[0m\n\u001b[0;32m      8\u001b[0m \u001b[0mstyle\u001b[0m\u001b[1;33m.\u001b[0m\u001b[0muse\u001b[0m\u001b[1;33m(\u001b[0m\u001b[1;34m'seaborn-talk'\u001b[0m\u001b[1;33m)\u001b[0m\u001b[1;33m\u001b[0m\u001b[1;33m\u001b[0m\u001b[0m\n\u001b[0;32m      9\u001b[0m \u001b[0mNUM_VALUES\u001b[0m \u001b[1;33m=\u001b[0m \u001b[1;36m11\u001b[0m\u001b[1;33m\u001b[0m\u001b[1;33m\u001b[0m\u001b[0m\n\u001b[1;32m---> 10\u001b[1;33m \u001b[0mheights\u001b[0m \u001b[1;33m=\u001b[0m \u001b[0mlist\u001b[0m\u001b[1;33m(\u001b[0m\u001b[0mtop11\u001b[0m\u001b[1;33m.\u001b[0m\u001b[0mvalues\u001b[0m\u001b[1;33m(\u001b[0m\u001b[1;33m)\u001b[0m\u001b[1;33m)\u001b[0m\u001b[1;33m\u001b[0m\u001b[1;33m\u001b[0m\u001b[0m\n\u001b[0m\u001b[0;32m     11\u001b[0m \u001b[0mheights\u001b[0m\u001b[1;33m.\u001b[0m\u001b[0msort\u001b[0m\u001b[1;33m(\u001b[0m\u001b[0mreverse\u001b[0m\u001b[1;33m=\u001b[0m\u001b[1;32mTrue\u001b[0m\u001b[1;33m)\u001b[0m\u001b[1;33m\u001b[0m\u001b[1;33m\u001b[0m\u001b[0m\n\u001b[0;32m     12\u001b[0m \u001b[0mplt\u001b[0m\u001b[1;33m.\u001b[0m\u001b[0mbar\u001b[0m\u001b[1;33m(\u001b[0m\u001b[0mrange\u001b[0m\u001b[1;33m(\u001b[0m\u001b[0mNUM_VALUES\u001b[0m\u001b[1;33m)\u001b[0m\u001b[1;33m,\u001b[0m \u001b[0mheights\u001b[0m\u001b[1;33m[\u001b[0m\u001b[1;33m:\u001b[0m\u001b[0mNUM_VALUES\u001b[0m\u001b[1;33m]\u001b[0m\u001b[1;33m,\u001b[0m\u001b[0mcolor\u001b[0m\u001b[1;33m=\u001b[0m\u001b[1;34m'#006747'\u001b[0m\u001b[1;33m)\u001b[0m\u001b[1;33m\u001b[0m\u001b[1;33m\u001b[0m\u001b[0m\n",
      "\u001b[1;31mNameError\u001b[0m: name 'top11' is not defined"
     ]
    }
   ],
   "source": [
    "\n",
    "import matplotlib.pyplot as plt; plt.rcdefaults()\n",
    "import matplotlib.pyplot as plt\n",
    "import matplotlib.style as style\n",
    "\n",
    "\n",
    "style.use('default')\n",
    "style.use('seaborn-talk')\n",
    "NUM_VALUES = 11\n",
    "heights = list(top11.values())\n",
    "heights.sort(reverse=True)\n",
    "plt.bar(range(NUM_VALUES), heights[:NUM_VALUES],color='#006747')\n",
    "plt.title('Highest Appearances in top movies')\n",
    "plt.ylabel('# Appearance')\n",
    "plt.xlabel('# Actors')\n",
    "keys = list(top11.keys())\n",
    "keys.sort(reverse=True, key=lambda x: top11[x])\n",
    "plt.xticks(range(NUM_VALUES), keys[:NUM_VALUES],rotation=30, horizontalalignment='right')\n",
    "plt.tight_layout()\n",
    "plt.show()\n",
    "plt.savefig('myplot.png')\n",
    "\n",
    "\n"
   ]
  },
  {
   "cell_type": "code",
   "execution_count": null,
   "metadata": {},
   "outputs": [],
   "source": []
  }
 ],
 "metadata": {
  "kernelspec": {
   "display_name": "Python 3",
   "language": "python",
   "name": "python3"
  },
  "language_info": {
   "codemirror_mode": {
    "name": "ipython",
    "version": 3
   },
   "file_extension": ".py",
   "mimetype": "text/x-python",
   "name": "python",
   "nbconvert_exporter": "python",
   "pygments_lexer": "ipython3",
   "version": "3.7.3"
  }
 },
 "nbformat": 4,
 "nbformat_minor": 2
}
